{
 "cells": [
  {
   "cell_type": "markdown",
   "metadata": {},
   "source": [
    "# Home Assignment 1"
   ]
  },
  {
   "cell_type": "markdown",
   "metadata": {},
   "source": [
    "Send your solutions before 07.10.2021 23:59:59 Moscow time to yanovich.yury@ya.ru. The preferable format of the solution is IPython notebook. Please, set the topic \"MMDLS HW1 - \\<your last name\\>\". For example, \"MMDLS HW1 - Yanovich\". You can write the solution either in Russian or English. Tasks with stars (*) are optional and allow to get bonus points."
   ]
  },
  {
   "cell_type": "code",
   "execution_count": 328,
   "metadata": {},
   "outputs": [],
   "source": [
    "# imports\n",
    "import hashlib\n",
    "import time\n",
    "import matplotlib\n",
    "import networkx as nx\n",
    "from networkx import balanced_tree, draw_networkx, draw\n",
    "import numpy as np\n",
    "import json\n",
    "import sys\n",
    "\n",
    "%matplotlib qt5"
   ]
  },
  {
   "cell_type": "markdown",
   "metadata": {},
   "source": [
    "## Problem 1 (1 point). My Hashrate"
   ]
  },
  {
   "cell_type": "markdown",
   "metadata": {},
   "source": [
    "This is a simple implemetation of Proof-of-Work function.\n",
    "It takes current block header and block calculation difficulty as inputs and returns nonce for this block and the header of a mined block."
   ]
  },
  {
   "cell_type": "code",
   "execution_count": 194,
   "metadata": {},
   "outputs": [],
   "source": [
    "def proof_of_work(header, target):\n",
    "    max_nonce = 2 ** 32\n",
    "    for nonce in range(max_nonce):\n",
    "        hash_result = hashlib.sha256(str(header).encode('utf-8')+str(nonce).encode('utf-8')).hexdigest()\n",
    "\n",
    "        if int(hash_result, 16) < target:\n",
    "            return (hash_result, nonce)"
   ]
  },
  {
   "cell_type": "markdown",
   "metadata": {},
   "source": [
    "The genesis block is calulated here."
   ]
  },
  {
   "cell_type": "code",
   "execution_count": 196,
   "metadata": {},
   "outputs": [
    {
     "name": "stdout",
     "output_type": "stream",
     "text": [
      "Success with nonce  186\n",
      "Hash is  005eaab75f55d7cef91c03f04052043056113f6ee14abfcf4a0562a019aa1cbe\n",
      "Elapsed time: 0.0004 seconds\n"
     ]
    }
   ],
   "source": [
    "nonce = 0\n",
    "block_hash = \"\"\n",
    "new_block = 'This is the genesis block' + block_hash\n",
    "\n",
    "difficulty_bits = 8\n",
    "target = 2 ** (256 - difficulty_bits)\n",
    "\n",
    "start_time = time.time()\n",
    "(block_hash, nonce) = proof_of_work(new_block, target)\n",
    "end_time = time.time()\n",
    "elapsed_time = end_time - start_time\n",
    "\n",
    "print(\"Success with nonce \", nonce)\n",
    "print(\"Hash is \", block_hash)\n",
    "print(\"Elapsed time: %.4f seconds\" % elapsed_time)"
   ]
  },
  {
   "cell_type": "markdown",
   "metadata": {},
   "source": [
    "### Task\n",
    "\n",
    "Choose such a target that you will calculated 20 160 000 blocks per 14 days in avarage. Prove it experimetally (estimate time for at least 2016 blocks and show that it is close to the goal).\n",
    "\n",
    "*Note.* Each next block should be calculated using the hash of the previous one."
   ]
  },
  {
   "cell_type": "code",
   "execution_count": 197,
   "metadata": {},
   "outputs": [
    {
     "name": "stdout",
     "output_type": "stream",
     "text": [
      "120.96\n"
     ]
    }
   ],
   "source": [
    "seconds_in_a_day = 60 * 60 * 24\n",
    "blocks_per_day = 20160000 / 14\n",
    "estimated_seconds_for_one_block = seconds_in_a_day / blocks_per_day \n",
    "estimated_seconds_for_2016_blocks = 2016 * estimated_seconds_for_one_block\n",
    "print(estimated_seconds_for_2016_blocks)"
   ]
  },
  {
   "cell_type": "code",
   "execution_count": 211,
   "metadata": {},
   "outputs": [],
   "source": [
    "# hashrate calculation\n",
    "header = 'This is the genesis block' + block_hash\n",
    "\n",
    "start_time = time.time()\n",
    "\n",
    "for i in range(2**24):\n",
    "    hash_result = hashlib.sha256(str(header).encode('utf-8')+str(i).encode('utf-8')).hexdigest()\n",
    "    \n",
    "end_time = time.time()\n",
    "\n",
    "elapsed_time = end_time - start_time\n",
    "\n",
    "hashrate = 2**24 / elapsed_time"
   ]
  },
  {
   "cell_type": "code",
   "execution_count": 213,
   "metadata": {},
   "outputs": [
    {
     "name": "stdout",
     "output_type": "stream",
     "text": [
      "523667 hashes per second\n"
     ]
    }
   ],
   "source": [
    "print(f'{hashrate:.0f} hashes per second')"
   ]
  },
  {
   "cell_type": "code",
   "execution_count": 338,
   "metadata": {},
   "outputs": [
    {
     "name": "stdout",
     "output_type": "stream",
     "text": [
      "target = 2 ** (256 - 13)\n",
      "Seconds for 504 blocks: 8.28\n",
      "Estimated time for 2016 blocks (seconds): 33.11\n",
      "target = 2 ** (256 - 14)\n",
      "Seconds for 504 blocks: 16.73\n",
      "Estimated time for 2016 blocks (seconds): 66.93\n",
      "target = 2 ** (256 - 15)\n",
      "Seconds for 504 blocks: 35.79\n",
      "Estimated time for 2016 blocks (seconds): 143.14\n"
     ]
    }
   ],
   "source": [
    "difficulty_bits_min: int = 13\n",
    "difficulty_bits_max: int = 20\n",
    "    \n",
    "number_of_blocks = 504\n",
    "\n",
    "for difficulty_bits in range(difficulty_bits_min, difficulty_bits_max + 1, 1):\n",
    "    target: int = 2 ** (256 - difficulty_bits)\n",
    "    print(f'target = 2 ** (256 - {difficulty_bits})')\n",
    "    new_block: str = 'This is the genesis block'\n",
    "\n",
    "    start_time = time.time()\n",
    "    \n",
    "    for index in range(number_of_blocks): \n",
    "        (block_hash, nonce) = proof_of_work(new_block, target)\n",
    "        new_block = block_hash + str(nonce)\n",
    "        \n",
    "    end_time = time.time()\n",
    "\n",
    "    seconds_for_504_blocks = end_time - start_time\n",
    "    seconds_for_2016_blocks = (seconds_for_504_blocks / 504) * 2016  \n",
    "    \n",
    "    print(f'Seconds for 504 blocks: {seconds_for_504_blocks:.2f}')\n",
    "    print(f'Estimated time for 2016 blocks (seconds): {seconds_for_2016_blocks:.2f}')\n",
    "    \n",
    "    if seconds_for_2016_blocks > np.ceil(estimated_seconds_for_2016_blocks):\n",
    "        break\n",
    "    else:\n",
    "        continue \n",
    "    break"
   ]
  },
  {
   "cell_type": "code",
   "execution_count": 340,
   "metadata": {},
   "outputs": [
    {
     "name": "stdout",
     "output_type": "stream",
     "text": [
      "Seconds for 2016 blocks: 133.90\n",
      "Estimated time for 20160000 blocks (days): 15\n"
     ]
    }
   ],
   "source": [
    "difficulty_bits: float = 15\n",
    "number_of_blocks = 2016\n",
    "target: int = 2 ** (256 - difficulty_bits)\n",
    "new_block: str = 'This is the genesis block'\n",
    "\n",
    "start_time = time.time()\n",
    "\n",
    "for index in range(number_of_blocks):\n",
    "    (block_hash, nonce) = proof_of_work(new_block, target)\n",
    "    new_block = block_hash + str(nonce)\n",
    "    \n",
    "end_time = time.time()\n",
    "\n",
    "seconds_for_2016_blocks = end_time - start_time\n",
    "print(f'Seconds for 2016 blocks: {seconds_for_2016_blocks:.2f}')\n",
    "print(f'Estimated time for 20160000 blocks (days): {(seconds_for_2016_blocks * 10000) / (60 * 60 * 24):.0f}')"
   ]
  },
  {
   "cell_type": "markdown",
   "metadata": {},
   "source": [
    "#### I founded the closest target by iterating over values of difficulty_bits. \n",
    "#### If we exceed the estimated time for generating 2016 blocks we break the cycle as we have found the value."
   ]
  },
  {
   "cell_type": "markdown",
   "metadata": {},
   "source": [
    "#### Actually, If difficulty_bits could be floating point number, we could get closer results, but we could multiply ther target by a constant equal to 1.189 (2 ** (256 - 14.75) - 2 ** (256 - 15))  we could get closer result."
   ]
  },
  {
   "cell_type": "code",
   "execution_count": 359,
   "metadata": {},
   "outputs": [
    {
     "name": "stdout",
     "output_type": "stream",
     "text": [
      "Seconds for 2016 blocks: 120.93\n",
      "Estimated time for 20160000 blocks (days): 14\n"
     ]
    }
   ],
   "source": [
    "difficulty_bits: float = 15\n",
    "c: float = 2 ** (256 - 14.75) / 2 ** (256 - difficulty_bits)\n",
    "number_of_blocks = 2016\n",
    "target: float = 2 ** (256 - difficulty_bits) * c\n",
    "new_block: str = 'This is the genesis block'\n",
    "\n",
    "start_time = time.time()\n",
    "\n",
    "for index in range(number_of_blocks):\n",
    "    (block_hash, nonce) = proof_of_work(new_block, target)\n",
    "    new_block = block_hash + str(nonce)\n",
    "    \n",
    "end_time = time.time()\n",
    "\n",
    "seconds_for_2016_blocks = end_time - start_time\n",
    "print(f'Seconds for 2016 blocks: {seconds_for_2016_blocks:.2f}')\n",
    "print(f'Estimated time for 20160000 blocks (days): {(seconds_for_2016_blocks * 10000) / (60 * 60 * 24):.0f}')"
   ]
  },
  {
   "cell_type": "markdown",
   "metadata": {},
   "source": [
    "## Problem 2 (3 + 3* points). Merkle tree"
   ]
  },
  {
   "cell_type": "markdown",
   "metadata": {},
   "source": [
    "Merkle hash trees play an important role in forming transaction blocks in blockchain. In this assignment we ask you to plot your own Merkle hash tree and check its' properties. Below we provide you with some code fragment what you can use in your assignment"
   ]
  },
  {
   "cell_type": "markdown",
   "metadata": {},
   "source": [
    "Let us plot graph basis for Merkle hash tree"
   ]
  },
  {
   "cell_type": "code",
   "execution_count": 252,
   "metadata": {},
   "outputs": [
    {
     "data": {
      "text/plain": [
       "{0: Text(0, 4, '0'),\n",
       " 1: Text(-2, 3, '1'),\n",
       " 2: Text(2, 3, '2'),\n",
       " 3: Text(-3, 2, '3'),\n",
       " 4: Text(-1, 2, '4'),\n",
       " 5: Text(1, 2, '5'),\n",
       " 6: Text(3, 2, '6'),\n",
       " 7: Text(-3, 1, 'tx1'),\n",
       " 8: Text(-1, 1, 'tx2'),\n",
       " 9: Text(1, 1, 'tx3'),\n",
       " 10: Text(3, 1, 'tx4')}"
      ]
     },
     "execution_count": 252,
     "metadata": {},
     "output_type": "execute_result"
    }
   ],
   "source": [
    "G = nx.Graph()\n",
    "positions = {}\n",
    "coordinates = [\n",
    "    [0, 4],\n",
    "    [-2, 3],\n",
    "    [2, 3],\n",
    "    [-3, 2],\n",
    "    [-1, 2],\n",
    "    [1, 2],\n",
    "    [3, 2],\n",
    "    [-3, 1],\n",
    "    [-1, 1],\n",
    "    [1, 1],\n",
    "    [3, 1]\n",
    "]\n",
    "parents = [0, 0, 0, 1, 1, 2, 2, 3, 4, 5, 6]\n",
    "for index in range(11):\n",
    "    G.add_node(index)\n",
    "    G.add_edge(index, parents[index])\n",
    "    positions[index] = coordinates[index]\n",
    "nx.draw(G, positions, node_size = 1000)\n",
    "labels = {\n",
    "    0: '0',\n",
    "    1: '1',\n",
    "    2: '2',\n",
    "    3: '3',\n",
    "    4: '4',\n",
    "    5: '5',\n",
    "    6: '6',\n",
    "    7: 'tx1',\n",
    "    8: 'tx2',\n",
    "    9: 'tx3',\n",
    "    10: 'tx4',\n",
    "}\n",
    "nx.draw_networkx_labels(G, positions, labels = labels)"
   ]
  },
  {
   "cell_type": "markdown",
   "metadata": {},
   "source": [
    "In Bitcoin double sha256 hash scheme is used. Here is an example."
   ]
  },
  {
   "cell_type": "code",
   "execution_count": 253,
   "metadata": {},
   "outputs": [
    {
     "name": "stdout",
     "output_type": "stream",
     "text": [
      "First hash represented as a hexadecimal number: 2cf24dba5fb0a30e26e83b2ac5b9e29e1b161e5c1fa7425e73043362938b9824\n",
      "Second hash represented as a hexadecimal number: 9595c9df90075148eb06860365df33584b75bff782a510c6cd4883a419833d50\n"
     ]
    }
   ],
   "source": [
    "first_hash = hashlib.sha256(b\"hello\") # \"b\" stands for binary representation\n",
    "second_hash = hashlib.sha256()\n",
    "print('First hash represented as a hexadecimal number:', first_hash.hexdigest())\n",
    "second_hash.update(first_hash.digest())\n",
    "print('Second hash represented as a hexadecimal number:', second_hash.hexdigest())"
   ]
  },
  {
   "cell_type": "markdown",
   "metadata": {},
   "source": [
    "Now we can easily change vertices' labels to hashes of corresponding messages and plot new graph"
   ]
  },
  {
   "cell_type": "code",
   "execution_count": 254,
   "metadata": {},
   "outputs": [
    {
     "data": {
      "text/plain": [
       "{0: Text(0, 4, '0'),\n",
       " 1: Text(-2, 3, '1'),\n",
       " 2: Text(2, 3, '2'),\n",
       " 3: Text(-3, 2, '856a4921cd32690244af7568e7bd1391a94119e17c7f33234f4bf11271b223e5'),\n",
       " 4: Text(-1, 2, '4'),\n",
       " 5: Text(1, 2, '5'),\n",
       " 6: Text(3, 2, '6'),\n",
       " 7: Text(-3, 1, 'tx1'),\n",
       " 8: Text(-1, 1, 'tx2'),\n",
       " 9: Text(1, 1, 'tx3'),\n",
       " 10: Text(3, 1, 'tx4')}"
      ]
     },
     "execution_count": 254,
     "metadata": {},
     "output_type": "execute_result"
    }
   ],
   "source": [
    "labels[3] = hashlib.sha256(hashlib.sha256(b\"tx1\").digest()).hexdigest()\n",
    "\n",
    "# and plot the graph again\n",
    "nx.draw(G, positions, node_size = 1000)\n",
    "nx.draw_networkx_labels(G, positions, labels = labels, font_size = 8)"
   ]
  },
  {
   "cell_type": "markdown",
   "metadata": {},
   "source": [
    "1) Construct Merkle hash tree using previously constructed graph by finding corresponding SHA256 hashes on vertices and plot obtained Merkle hash tree (1 point)\n",
    "\n",
    "Note: for convenience, true hashes have been truncated to the first 6 characters. True hashes are saved in full_labels dictionary."
   ]
  },
  {
   "cell_type": "code",
   "execution_count": 323,
   "metadata": {},
   "outputs": [],
   "source": [
    "def construct_merkle_hash_tree(labels: dict) -> (nx.draw_networkx_labels, dict):\n",
    "    full_labels: dict = labels.copy()\n",
    "        \n",
    "    # calculation of values of third level tree nodes\n",
    "    for i in range(3, 6 + 1):\n",
    "        full_labels[i] = hashlib.sha256(hashlib.sha256(full_labels[i + 4].encode('utf-8')).digest()).hexdigest()\n",
    "    # calculation of values of second level tree nodes\n",
    "    for i in range(1, 2 + 1):\n",
    "        full_labels[i] = hashlib.sha256(hashlib.sha256(str(full_labels[2 * i + 1] + full_labels[2 * i + 2]).encode('utf-8')).digest()).hexdigest()\n",
    "    # calculation value of the root node\n",
    "    full_labels[0] = hashlib.sha256(hashlib.sha256(str(full_labels[1] + full_labels[2]).encode('utf-8')).digest()).hexdigest()\n",
    "    \n",
    "    # truncating values to the first 6 characters\n",
    "    for i in range(6 + 1):\n",
    "        labels[i] = full_labels[i][:6]\n",
    "        \n",
    "    nx.draw(G, positions, node_size = 1000)\n",
    "    return nx.draw_networkx_labels(G, positions, labels = labels), full_labels\n"
   ]
  },
  {
   "cell_type": "code",
   "execution_count": 324,
   "metadata": {},
   "outputs": [
    {
     "data": {
      "text/plain": [
       "{0: Text(0, 4, '5eaee1'),\n",
       " 1: Text(-2, 3, '41925f'),\n",
       " 2: Text(2, 3, '5c72c2'),\n",
       " 3: Text(-3, 2, '856a49'),\n",
       " 4: Text(-1, 2, '79043a'),\n",
       " 5: Text(1, 2, 'ef729c'),\n",
       " 6: Text(3, 2, '4746dc'),\n",
       " 7: Text(-3, 1, 'tx1'),\n",
       " 8: Text(-1, 1, 'tx2'),\n",
       " 9: Text(1, 1, 'tx3'),\n",
       " 10: Text(3, 1, 'tx4')}"
      ]
     },
     "execution_count": 324,
     "metadata": {},
     "output_type": "execute_result"
    }
   ],
   "source": [
    "labels: dict = {0: '0', 1: '1', 2: '2', 3: '3', 4: '4', 5: '5', 6: '6', 7: 'tx1', 8: 'tx2', 9: 'tx3', 10: 'tx4'}\n",
    "draw_networkx_labels, full_labels = construct_merkle_hash_tree(labels)\n",
    "draw_networkx_labels"
   ]
  },
  {
   "cell_type": "markdown",
   "metadata": {},
   "source": [
    "![alt text](first_tree.png \"Merkle tree\")"
   ]
  },
  {
   "cell_type": "markdown",
   "metadata": {},
   "source": [
    "2) Provide a proof of correctness of leaf tx1 and set of leafs tx1-tx2 (1 point)"
   ]
  },
  {
   "cell_type": "markdown",
   "metadata": {},
   "source": [
    "#### proof of correctness of the leaf tx1"
   ]
  },
  {
   "cell_type": "code",
   "execution_count": 325,
   "metadata": {},
   "outputs": [
    {
     "name": "stdout",
     "output_type": "stream",
     "text": [
      "41925fc3630f375e23755f04099f1b2c51f372a9792762b28478fbbc5faf1106\n",
      "5eaee129fb6c4761a542e919f8fd0fa3f3c3d83a33bbeeec5a7e8772ddfb8f88\n"
     ]
    }
   ],
   "source": [
    "leaf_tx1_value: str = 'tx1'\n",
    "hash_tx2: str = full_labels[4]\n",
    "hash_tx3_tx4: str = full_labels[2] \n",
    "\n",
    "hash_tx1: str = hashlib.sha256(hashlib.sha256(leaf_tx1_value.encode('utf-8')).digest()).hexdigest()\n",
    "hash_tx1_tx2: str = hashlib.sha256(hashlib.sha256((hash_tx1 + hash_tx2).encode('utf-8')).digest()).hexdigest()\n",
    "hash_root: str = hashlib.sha256(hashlib.sha256((hash_tx1_tx2 + hash_tx3_tx4).encode('utf-8')).digest()).hexdigest()\n",
    "    \n",
    "print(hash_tx1_tx2)\n",
    "print(hash_root)\n",
    "\n",
    "assert(hash_root == full_labels[0])"
   ]
  },
  {
   "cell_type": "markdown",
   "metadata": {},
   "source": [
    "#### proof of correctness of the set of leaves tx1 and tx2"
   ]
  },
  {
   "cell_type": "code",
   "execution_count": 326,
   "metadata": {},
   "outputs": [],
   "source": [
    "leaf_tx1_value: str = 'tx1'\n",
    "leaf_tx2_value: str = 'tx2'\n",
    "\n",
    "hash_tx3_tx4: str = full_labels[2] \n",
    "\n",
    "hash_tx1: str = hashlib.sha256(hashlib.sha256(leaf_tx1_value.encode('utf-8')).digest()).hexdigest()\n",
    "hash_tx2: str = hashlib.sha256(hashlib.sha256(leaf_tx2_value.encode('utf-8')).digest()).hexdigest()\n",
    "hash_tx1_tx2: str = hashlib.sha256(hashlib.sha256((hash_tx1 + hash_tx2).encode('utf-8')).digest()).hexdigest()\n",
    "hash_root: str = hashlib.sha256(hashlib.sha256((hash_tx1_tx2 + hash_tx3_tx4).encode('utf-8')).digest()).hexdigest()\n",
    "\n",
    "assert(hash_root == full_labels[0])"
   ]
  },
  {
   "cell_type": "markdown",
   "metadata": {},
   "source": [
    "3) Change the value on leaf tx1 and recompute corresponding hashes. Plot newly obtained Merkle hash tree (1 point)"
   ]
  },
  {
   "cell_type": "code",
   "execution_count": 327,
   "metadata": {},
   "outputs": [
    {
     "data": {
      "text/plain": [
       "{0: Text(0, 4, 'f59a45'),\n",
       " 1: Text(-2, 3, 'e11874'),\n",
       " 2: Text(2, 3, '5c72c2'),\n",
       " 3: Text(-3, 2, '5ccaca'),\n",
       " 4: Text(-1, 2, '79043a'),\n",
       " 5: Text(1, 2, 'ef729c'),\n",
       " 6: Text(3, 2, '4746dc'),\n",
       " 7: Text(-3, 1, 'new_tx1'),\n",
       " 8: Text(-1, 1, 'tx2'),\n",
       " 9: Text(1, 1, 'tx3'),\n",
       " 10: Text(3, 1, 'tx4')}"
      ]
     },
     "execution_count": 327,
     "metadata": {},
     "output_type": "execute_result"
    }
   ],
   "source": [
    "labels: dict = {0: '0', 1: '1', 2: '2', 3: '3', 4: '4', 5: '5', 6: '6', 7: 'new_tx1', 8: 'tx2', 9: 'tx3', 10: 'tx4'}\n",
    "draw_networkx_labels, full_labels = construct_merkle_hash_tree(labels)\n",
    "draw_networkx_labels"
   ]
  },
  {
   "cell_type": "markdown",
   "metadata": {},
   "source": [
    "![alt text](second_tree.png \"Merkle tree\")"
   ]
  },
  {
   "cell_type": "markdown",
   "metadata": {},
   "source": [
    "4*) Implement a function to support the number of leafs $n =5, .., 16$. Let the value in the leaf $i$ be $txi$. Plot the tree. Provide the proof of correctness of leaf tx4 and set of leafs tx4-tx5 (3 bonus points)"
   ]
  },
  {
   "cell_type": "code",
   "execution_count": null,
   "metadata": {},
   "outputs": [],
   "source": [
    "# code"
   ]
  },
  {
   "cell_type": "markdown",
   "metadata": {},
   "source": [
    "## Problem 3 (6 + 2* points). Fork rate and main chain"
   ]
  },
  {
   "cell_type": "markdown",
   "metadata": {},
   "source": [
    "Two miners are the only maintainers of the network. Each miner needs a random time to generate a new block which is modeled as exponential random variables with the rates $1/t_1$ and $1/t_2$ correspondingly. The network is not ideal and it takes a constant time $t_0$ to synchronize the block. We assume both miners be honest and continue the longest known chain."
   ]
  },
  {
   "cell_type": "markdown",
   "metadata": {},
   "source": [
    "1) Implement a function to generate a sequence of tuples (time, block author, longest chain, longest chain for miner 1, longest chain for miner 2) and run it for $t_1=t_2=1, t_0=0.5$ (1 point)"
   ]
  },
  {
   "cell_type": "code",
   "execution_count": 384,
   "metadata": {},
   "outputs": [],
   "source": [
    "class Block(object):\n",
    "    creation_time: float = 0\n",
    "    author: str = ''\n",
    "    \n",
    "    def __init__(self, creation_time: int, author: str):\n",
    "        self.creation_time = creation_time\n",
    "        self.author = author\n",
    "\n",
    "    def __repr__(self):\n",
    "        return f'creation_time = {self.creation_time}; author = {self.author}'"
   ]
  },
  {
   "cell_type": "markdown",
   "metadata": {},
   "source": [
    "#### Let's assume that our miners started generating their blocks at the same time. (I created a class for block, hope it is not a problem.)"
   ]
  },
  {
   "cell_type": "code",
   "execution_count": 398,
   "metadata": {},
   "outputs": [],
   "source": [
    "def get_chains(t1: float, t2: float, t0: float) -> ([], [], []):\n",
    "    time_first: float = 0\n",
    "    time_second: float = 0\n",
    "    first_miner_chain = []\n",
    "    second_miner_chain = []\n",
    "    chain = []\n",
    "\n",
    "    for i in range(10):\n",
    "        # first miner mines block\n",
    "        first_miner_time = round(np.random.exponential(scale = 1 / t1), 3)\n",
    "        # second miner mines block\n",
    "        second_miner_time = round(np.random.exponential(scale = 1 / t2), 3)\n",
    "\n",
    "        # time after start mining [first miner]\n",
    "        time_first += first_miner_time\n",
    "        time_first = round(time_first, 3)\n",
    "        # time after start mining [second miner]\n",
    "        time_second += second_miner_time\n",
    "        time_second = round(time_second, 3)\n",
    "\n",
    "        # if first miner was quicker\n",
    "        if time_first < time_second:\n",
    "            # create block\n",
    "            first_miner_block = Block(time_first, 'first_miner')\n",
    "            # apppend block to first miner chain\n",
    "            first_miner_chain.append(first_miner_block)        \n",
    "            # now chain is first_miner_chain\n",
    "            chain = first_miner_chain\n",
    "            # if second miner saw a new block before he ended mining his block\n",
    "            if time_second - time_first > t0:\n",
    "                # let's say that he stopped mining this block and started mining new\n",
    "                time_second -= (second_miner_time - first_miner_time - t0)  \n",
    "                time_second = round(time_second, 3)\n",
    "                second_miner_chain = chain\n",
    "            # if second miner did not see new block before he ended mining, append block to second miner chain\n",
    "            else:\n",
    "                second_miner_block = Block(time_second, 'second_miner')\n",
    "                second_miner_chain.append(second_miner_block)\n",
    "        # if second miner was quicker        \n",
    "        else:\n",
    "            # create block\n",
    "            second_miner_block = Block(time_second, 'second_miner')\n",
    "            # append block to second miner chain\n",
    "            second_miner_chain.append(second_miner_block)        \n",
    "            # now chain is second_miner_chain\n",
    "            chain = second_miner_chain\n",
    "            # if first miner saw a new block before he ended minin his block\n",
    "            if time_first - time_second > t0:\n",
    "                # let's say that he stopped mining this block and started mining new\n",
    "                time_first -= (first_miner_time - second_miner_time - t0)\n",
    "                time_first = round(time_first, 3)\n",
    "                first_miner_chain = chain\n",
    "            # if first miner did not see new block before he ended mining, append block to first miner chain:\n",
    "            else:   \n",
    "                first_miner_block = Block(time_first, 'first_miner')\n",
    "                first_miner_chain.append(first_miner_block)\n",
    "    \n",
    "    return chain, first_miner_chain, second_miner_chain"
   ]
  },
  {
   "cell_type": "code",
   "execution_count": 399,
   "metadata": {},
   "outputs": [],
   "source": [
    "chain, first_miner_chain, second_miner_chain = get_chains(1, 1, 0.5)"
   ]
  },
  {
   "cell_type": "code",
   "execution_count": 400,
   "metadata": {},
   "outputs": [
    {
     "data": {
      "text/plain": [
       "[creation_time = 0.827; author = first_miner,\n",
       " creation_time = 1.732; author = first_miner,\n",
       " creation_time = 2.053; author = second_miner,\n",
       " creation_time = 2.358; author = second_miner,\n",
       " creation_time = 2.591; author = first_miner,\n",
       " creation_time = 3.644; author = second_miner,\n",
       " creation_time = 4.952; author = first_miner,\n",
       " creation_time = 5.915; author = first_miner,\n",
       " creation_time = 6.129; author = second_miner,\n",
       " creation_time = 6.244; author = first_miner,\n",
       " creation_time = 6.738; author = second_miner,\n",
       " creation_time = 8.256; author = first_miner,\n",
       " creation_time = 8.268; author = first_miner,\n",
       " creation_time = 10.13; author = second_miner]"
      ]
     },
     "execution_count": 400,
     "metadata": {},
     "output_type": "execute_result"
    }
   ],
   "source": [
    "chain"
   ]
  },
  {
   "cell_type": "markdown",
   "metadata": {},
   "source": [
    "2) Plot the ratio of the blocks in the main chain to the number of generated blocks as a function of $t_0 \\in [0, 2]$ for fixed $t_1=t_2=1$ (2 points)"
   ]
  },
  {
   "cell_type": "code",
   "execution_count": 6,
   "metadata": {},
   "outputs": [],
   "source": [
    "# code"
   ]
  },
  {
   "cell_type": "markdown",
   "metadata": {},
   "source": [
    "3) Let there be an adversary miner 3 with a rate $t_3 = 0.9$ and instant communication with miners 1 and 2. Let him mine his own branch. Plot the empirical and theoretical probability to go $6$ blocks ahead of the miners' 1 and 2 main chain as a function of $t_0$ for fixed $t_1=t_2=1$ (3 points)"
   ]
  },
  {
   "cell_type": "code",
   "execution_count": 7,
   "metadata": {},
   "outputs": [],
   "source": [
    "# code"
   ]
  },
  {
   "cell_type": "markdown",
   "metadata": {},
   "source": [
    "4*) Demonstrate double spend attack by miner 3 (2 bonus points)"
   ]
  },
  {
   "cell_type": "code",
   "execution_count": 8,
   "metadata": {},
   "outputs": [],
   "source": [
    "# code"
   ]
  },
  {
   "cell_type": "code",
   "execution_count": null,
   "metadata": {},
   "outputs": [],
   "source": []
  }
 ],
 "metadata": {
  "kernelspec": {
   "display_name": "Python 3",
   "language": "python",
   "name": "python3"
  },
  "language_info": {
   "codemirror_mode": {
    "name": "ipython",
    "version": 3
   },
   "file_extension": ".py",
   "mimetype": "text/x-python",
   "name": "python",
   "nbconvert_exporter": "python",
   "pygments_lexer": "ipython3",
   "version": "3.8.5"
  }
 },
 "nbformat": 4,
 "nbformat_minor": 2
}
