{
 "cells": [
  {
   "cell_type": "markdown",
   "id": "77bf04d5",
   "metadata": {},
   "source": [
    "### Homework 2\n",
    "\n",
    "Send your solutions before 28/10/2021 23:59:59 Moscow time to yanovich.yury@ya.ru. The preferable format of the solution is IPython notebook. Please, set the topic \"MMDLS HW2 - <your last name>\". For example, \"MMDLS HW2 - Yanovich\". "
   ]
  },
  {
   "cell_type": "code",
   "execution_count": 1,
   "id": "632415c8",
   "metadata": {},
   "outputs": [],
   "source": [
    "import base58\n",
    "import binascii\n",
    "import bitcoin\n",
    "import hashlib\n",
    "import os\n",
    "import ecdsa\n",
    "from ecdsa import SigningKey, SECP256k1\n",
    "from prettytable import PrettyTable\n",
    "from typing import List"
   ]
  },
  {
   "cell_type": "markdown",
   "id": "4a34f1f4",
   "metadata": {},
   "source": [
    "<b>Modified helper functions from seminar notebook.</b>"
   ]
  },
  {
   "cell_type": "code",
   "execution_count": 2,
   "id": "4b7e980c",
   "metadata": {},
   "outputs": [],
   "source": [
    "# Function For Hashing: \n",
    "# 1. Sha256 \n",
    "# 2. Ripemd160\n",
    "def hashing(a):\n",
    "    first_sha256 = hashlib.sha256(a)\n",
    "    ripemd160 = hashlib.new('ripemd160')\n",
    "    ripemd160.update(first_sha256.digest())\n",
    "    return_0 = ripemd160.digest()\n",
    "    return_1 = bytes.fromhex('00') + ripemd160.digest()\n",
    "    return_2 = bytes.fromhex('6f') + ripemd160.digest()\n",
    "    return return_0, return_1, return_2\n",
    "\n",
    "# Function for Checksum\n",
    "def checksum(b):\n",
    "    checksum_full = hashlib.sha256(hashlib.sha256(b).digest()).digest()\n",
    "    new_checksum = checksum_full[:4]\n",
    "    return b + new_checksum\n",
    "\n",
    "# Function to convert to base58    \n",
    "def to_base58(c):\n",
    "    return base58.b58encode(c).decode('utf-8')\n",
    "\n",
    "def compressed_key(d):\n",
    "    a = d.hex()\n",
    "\n",
    "    if a[-1] == '0' or a[-1] == '2' or a[-1] == '4' or a[-1] == '6' or a[-1] == '8' or a[-1] == 'a' or a[-1] == 'c' or a[-1] == 'e':\n",
    "        return bytes.fromhex('02') + d\n",
    "    else:\n",
    "        return bytes.fromhex('03') + d\n",
    "\n",
    "def generate_address(print_output = True):\n",
    "    # Generating Random number of 32 bytes\n",
    "    private_key = os.urandom(32).hex()\n",
    "    private_key_from_hex = bytes.fromhex(private_key)\n",
    "\n",
    "    # Keeping same private key, Generating Public Key\n",
    "    sk = ecdsa.SigningKey.from_string(private_key_from_hex, curve = ecdsa.SECP256k1) \n",
    "\n",
    "    # Actual publickey to verify messages that singed using own pvt key\n",
    "    verification_key = sk.verifying_key\n",
    "    # Making Public Key:\n",
    "    public_key = bytes.fromhex('04') + verification_key.to_string()\n",
    "    compressed_public_key = compressed_key(verification_key.to_string())\n",
    "    compressed_public_key_hex = compressed_public_key.hex()[:66]\n",
    "    # Converting public key to address:\n",
    "    decoded_pubkey, mainnet_pubkey, testnet_pubkey = hashing(public_key)\n",
    "\n",
    "    # Checksum:\n",
    "    checksum_main_pubkey = checksum(mainnet_pubkey)\n",
    "    checksum_test_pubkey = checksum(testnet_pubkey)\n",
    "\n",
    "    main_address = to_base58(checksum_main_pubkey)\n",
    "    test_address = to_base58(checksum_test_pubkey)\n",
    "\n",
    "    if print_output:\n",
    "        x = PrettyTable()\n",
    "        x.field_names = ['Description', 'Value']\n",
    "        x.add_row(['Private Key, hex', private_key])\n",
    "        x.add_row(['Public Key, hex', public_key.hex()])\n",
    "        x.add_row(['Compressed Public Key, hex', compressed_public_key_hex])\n",
    "        x.add_row(['MainNet Address, base58', main_address])\n",
    "        x.add_row(['Testnet Address, base58', test_address])\n",
    "        print(x)\n",
    "        \n",
    "    return(private_key, public_key.hex(), compressed_public_key_hex, main_address, test_address)\n",
    "\n",
    "# Generate Transaction\n",
    "def bytewise_reverse(hex_string: str) -> str:\n",
    "    i: int = 0\n",
    "    reversed_string: List[str] = []\n",
    "    while i != len(hex_string):\n",
    "        reversed_string.append(hex_string[i] + hex_string[i + 1])\n",
    "        i = i + 2\n",
    "    reversed_string.reverse()\n",
    "    \n",
    "    return ''.join(reversed_string)\n",
    "\n",
    "def doublehash256_txid(a: str) -> str: \n",
    "    return str(binascii.hexlify(hashlib.sha256(hashlib.sha256(binascii.unhexlify(a)).digest()).digest()), 'ascii')\n",
    "\n",
    "def public_to_test(script_address: str) -> str:\n",
    "    decoded_address = base58.b58decode(script_address)\n",
    "    address_1 = decoded_address[1:-4]\n",
    "    hex_address = bytes.fromhex('C4') + address_1\n",
    "    checksum_test_multsignature = checksum(hex_address)\n",
    "    test_address = to_base58(checksum_test_multsignature)\n",
    "    \n",
    "    return test_address\n",
    "\n",
    "def bitcoin_satoshi_rev_hex(btc):\n",
    "    return bytewise_reverse(str(hex(int(float(btc) * (10**8)))[2:]).zfill(16))\n",
    "\n",
    "def bytes_padding(data) -> str:\n",
    "    return '0' + data if (int(len(data) % 2) != 0) else data\n",
    "\n",
    "def op_returns() -> str:\n",
    "    value_return: str = '0'*16\n",
    "    data: str = input('Enter data to send: ')\n",
    "    text_from_bytes: str = binascii.b2a_hex(data.encode('utf-8')).decode()\n",
    "    data_len: List[str] = hex(int(len(text_from_bytes) / 2))[2:]\n",
    "    partial_data: str = '6a'+ bytes_padding(data_len) + text_from_bytes\n",
    "        \n",
    "    return value_return + bytes_padding(hex(int(len(partial_data) / 2))[2:]) + partial_data\n",
    "\n",
    "def digital_signature(raw_transaction: str) -> str:\n",
    "    unsigned: str = raw_transaction\n",
    "    transaction_hash: str = hashlib.sha256(hashlib.sha256(binascii.unhexlify(unsigned)).digest()).digest()\n",
    "    private_key: str = input('Enter Private Key: ')\n",
    "    signing_key: str = ecdsa.SigningKey.from_string(bytes.fromhex(private_key), curve=ecdsa.SECP256k1)  \n",
    "    signature: str = str(binascii.hexlify(signing_key.sign_digest(transaction_hash, sigencode=ecdsa.util.sigencode_der_canonize)), 'ascii')\n",
    "        \n",
    "    return signature\n",
    "    \n",
    "def variable_integer(a) -> str:\n",
    "    temp = a if type(a) == int else int(len(a) / 2)\n",
    "\n",
    "    if temp <= int('0xfc', 16):\n",
    "        return bytes_padding(hex(temp)[2:])\n",
    "    elif temp > int('0xfc', 16) and temp <= int('0xffff', 16):\n",
    "        return 'fd' + bytewise_reverse(bytes_padding(hex(temp)[2:]))\n",
    "    elif temp > int('0xffff', 16) and temp <= int('0xffffffff', 16):\n",
    "        return 'fe' + bytewise_reverse(bytes_padding(hex(temp)[2:]))\n",
    "    elif temp > int('0xffffffff', 16) and temp <= int('0xffffffffffffffff', 16):\n",
    "        return 'ff' + bytewise_reverse(bytes_padding(hex(temp)[2:]))\n",
    "\n",
    "def transaction_outputs() -> str:\n",
    "    receiver_address: str = input('Enter receiver\\'s address: ')\n",
    "    value_in_btc: float = float(input('Enter value in BTC to send: '))\n",
    "    value_in_hex_NYB: str = bitcoin_satoshi_rev_hex(str(value_in_btc))\n",
    "    receiver_address_decoded: str = base58.b58decode(receiver_address).hex()[2:-8]\n",
    "    locking_Script: str = ''\n",
    "    script_length: str = ''\n",
    "        \n",
    "    if receiver_address[0] == 'm' or receiver_address[0] == 'n': \n",
    "        locking_script = '76' + 'a9' + variable_integer(receiver_address_decoded) + receiver_address_decoded + '88' + 'ac'\n",
    "        script_length = hex(int(len(locking_script) / 2))[2:]\n",
    "    elif receiver_address[0] == '2':\n",
    "        locking_script = 'a9' + variable_integer(receiver_address_decoded) + receiver_address_decoded + '87'\n",
    "        script_length = variable_integer(locking_script)\n",
    "            \n",
    "    return value_in_hex_NYB + script_length + locking_script\n",
    "\n",
    "def push_data(len_r: str, len_s: str) -> str:\n",
    "    if len_r == '20' and len_s == '20':\n",
    "        return str(47)    \n",
    "    elif len_r == '20' or len_s == '21':\n",
    "        return str(48)\n",
    "    elif len_r == '21' or len_s == '20':\n",
    "        return str(48)\n",
    "    else:\n",
    "        return str(49)\n",
    "\n",
    "def public_key_opcode(a: str) -> str:\n",
    "    return hex(int(int(len(a)) / 2))[2:]\n",
    "    \n",
    "def decode_digital_signature(digital_signature: str, public_key: str) -> str:\n",
    "    header: str = digital_signature[0:2]\n",
    "    sig_length: str = digital_signature[2:4]\n",
    "    r_integer: str = digital_signature[4:6]\n",
    "    r_length: str = digital_signature[6:8]\n",
    "    r: str = digital_signature[8:8 + 2 * int(r_length, 16)]\n",
    "    s_integer: str = digital_signature[8 + 2 * int(r_length, 16): 10 + 2 * int(r_length, 16)]\n",
    "    s_length: str = digital_signature[10 + 2 * int(r_length, 16): 12 + 2 * int(r_length, 16)]\n",
    "    s: str = digital_signature[12 + 2 * int(r_length, 16):]\n",
    "    \n",
    "    push_data_opcode: str = push_data(r_length, s_length)\n",
    "    sighash_code: str = '01'\n",
    "    public_key_push_data_opcode = public_key_opcode(public_key)\n",
    "\n",
    "    final_sig_script: str = push_data_opcode + header + sig_length + r_integer + r_length + r + s_integer + s_length + s + sighash_code + public_key_push_data_opcode + public_key\n",
    "    sig_script = public_key_opcode(final_sig_script) + final_sig_script\n",
    "    \n",
    "    return sig_script\n",
    "\n",
    "def place_holder() -> str:\n",
    "    previous_place_holder: str = input('Enter output script: ')\n",
    "    script_public_key_previous_operation: str = '76' + 'a9' + hex(int(len(previous_place_holder) / 2))[2:] + previous_place_holder + '88' + 'ac'\n",
    "    \n",
    "    return hex(int(len(script_public_key_previous_operation) / 2))[2:] + script_public_key_previous_operation\n",
    "\n",
    "def tx_inputs_tx_id() -> str:\n",
    "    previous_tx_hash = input('Enter previous transaction id: ')\n",
    "    previous_tx_hash_reversed = bytewise_reverse(previous_tx_hash)\n",
    "    previous_output_index = input('Enter previous output: ')\n",
    "    previous_output_index = bytewise_reverse('{:08d}'.format(int(previous_output_index)))\n",
    "    \n",
    "    return previous_tx_hash_reversed + previous_output_index\n",
    "\n",
    "def transaction_outputs_v2() -> str:\n",
    "    receiver_address: str = input('Enter receiver\\'s address: ')\n",
    "    value_in_btc: float = float(input('Enter value in BTC to send: '))\n",
    "    value_in_hex_NYB: str = bitcoin_satoshi_rev_hex(str(value_in_btc))\n",
    "    receiver_address_decoded: str = base58.b58decode(receiver_address).hex()[2:-8]\n",
    "    locking_script: str = ''\n",
    "        \n",
    "    if receiver_address[0] == 'm' or receiver_address[0] == 'n': \n",
    "        locking_script = '76' + 'a9' + variable_integer(receiver_address_decoded) + receiver_address_decoded + '88' + 'ac'\n",
    "    elif receiver_address[0] == '2':\n",
    "        locking_script = 'a9' + variable_integer(receiver_address_decoded) + receiver_address_decoded + '87'\n",
    "    \n",
    "    script_length: str = variable_integer(locking_script)\n",
    "            \n",
    "    return value_in_hex_NYB + script_length + locking_script"
   ]
  },
  {
   "cell_type": "markdown",
   "id": "fb72179e",
   "metadata": {},
   "source": [
    "<b>Pre-requisite 1.</b> Generate 3 testnet addresses (address_1, address_2, address_3; should start with either m or n)."
   ]
  },
  {
   "cell_type": "code",
   "execution_count": 3,
   "id": "a44903b3",
   "metadata": {},
   "outputs": [
    {
     "name": "stdout",
     "output_type": "stream",
     "text": [
      "+----------------------------+------------------------------------------------------------------------------------------------------------------------------------+\n",
      "|        Description         |                                                               Value                                                                |\n",
      "+----------------------------+------------------------------------------------------------------------------------------------------------------------------------+\n",
      "|      Private Key, hex      |                                  62bf458d04adc47bf01a2e2ce6c66496cc65ab1c0080b4a89d1c0b561aec2325                                  |\n",
      "|      Public Key, hex       | 04a8d1b5d62e468ec32011cf143f1d3413ca751266dfc32df90ccd1a6af59d9ce8ee05d884e13e00c778699efd46c95fffe01f8e23de5cf55b08f80977b6611a7f |\n",
      "| Compressed Public Key, hex |                                 03a8d1b5d62e468ec32011cf143f1d3413ca751266dfc32df90ccd1a6af59d9ce8                                 |\n",
      "|  MainNet Address, base58   |                                                 1EwhEB4xZvzkX3k8V23TZeXwkQXz9FkTdE                                                 |\n",
      "|  Testnet Address, base58   |                                                 muTeXE9wNxS1JADkCb1qPZkGcQ8h34t2NN                                                 |\n",
      "+----------------------------+------------------------------------------------------------------------------------------------------------------------------------+\n",
      "+----------------------------+------------------------------------------------------------------------------------------------------------------------------------+\n",
      "|        Description         |                                                               Value                                                                |\n",
      "+----------------------------+------------------------------------------------------------------------------------------------------------------------------------+\n",
      "|      Private Key, hex      |                                  9ea470901eebb2b6ddb5d6c1286376a943fbcb429280b66d7ec50c1e9546f340                                  |\n",
      "|      Public Key, hex       | 04373fa53e5ce56abe9ff58900d82b1135c1d54f102a4048a3825f5d664e12ea1762179fe2c70a53dc8aeecf27548f4ddb01fa860c536b90c0d420b3fdce24f4da |\n",
      "| Compressed Public Key, hex |                                 02373fa53e5ce56abe9ff58900d82b1135c1d54f102a4048a3825f5d664e12ea17                                 |\n",
      "|  MainNet Address, base58   |                                                 18qnPh3RNNK7mBYuiVUha2eajdiDxu1xme                                                 |\n",
      "|  Testnet Address, base58   |                                                 moMjgk8QBPkNYJ2XS4T5PwrubdJvxQ6hsp                                                 |\n",
      "+----------------------------+------------------------------------------------------------------------------------------------------------------------------------+\n",
      "+----------------------------+------------------------------------------------------------------------------------------------------------------------------------+\n",
      "|        Description         |                                                               Value                                                                |\n",
      "+----------------------------+------------------------------------------------------------------------------------------------------------------------------------+\n",
      "|      Private Key, hex      |                                  ddbc2793a9fdf067ecee11624fc47483e3c157bdf9b174ff22cdb8e317a7b79e                                  |\n",
      "|      Public Key, hex       | 04dd24241cbfb790b1c60ceb632b14b270c594d7f70c4d3c3b6a9b955879b652f9ee1a37fbd5b5c6b2e28f65ae7af1d393a8b94feeee44fb8bf2958e7ab8df6da4 |\n",
      "| Compressed Public Key, hex |                                 02dd24241cbfb790b1c60ceb632b14b270c594d7f70c4d3c3b6a9b955879b652f9                                 |\n",
      "|  MainNet Address, base58   |                                                 12q2AFDC9Tvfe4dsxr8mYaHfjSifjtWoeb                                                 |\n",
      "|  Testnet Address, base58   |                                                 mhLyTJJAxVMvRB7VgR79NVVzbSKNfnpZBt                                                 |\n",
      "+----------------------------+------------------------------------------------------------------------------------------------------------------------------------+\n"
     ]
    }
   ],
   "source": [
    "generated_addresses = [generate_address(), generate_address(), generate_address()]"
   ]
  },
  {
   "cell_type": "code",
   "execution_count": 4,
   "id": "dc06895b",
   "metadata": {},
   "outputs": [],
   "source": [
    "address_1 = generated_addresses[0][-1]\n",
    "address_2 = generated_addresses[1][-1]\n",
    "address_3 = generated_addresses[2][-1]"
   ]
  },
  {
   "cell_type": "code",
   "execution_count": 5,
   "id": "db0a2893",
   "metadata": {},
   "outputs": [
    {
     "name": "stdout",
     "output_type": "stream",
     "text": [
      "muTeXE9wNxS1JADkCb1qPZkGcQ8h34t2NN\n",
      "moMjgk8QBPkNYJ2XS4T5PwrubdJvxQ6hsp\n",
      "mhLyTJJAxVMvRB7VgR79NVVzbSKNfnpZBt\n"
     ]
    }
   ],
   "source": [
    "print(address_1, address_2, address_3, sep='\\n')"
   ]
  },
  {
   "cell_type": "code",
   "execution_count": 6,
   "id": "cdcbef39",
   "metadata": {},
   "outputs": [
    {
     "data": {
      "text/plain": [
       "['04a8d1b5d62e468ec32011cf143f1d3413ca751266dfc32df90ccd1a6af59d9ce8ee05d884e13e00c778699efd46c95fffe01f8e23de5cf55b08f80977b6611a7f',\n",
       " '04373fa53e5ce56abe9ff58900d82b1135c1d54f102a4048a3825f5d664e12ea1762179fe2c70a53dc8aeecf27548f4ddb01fa860c536b90c0d420b3fdce24f4da',\n",
       " '04dd24241cbfb790b1c60ceb632b14b270c594d7f70c4d3c3b6a9b955879b652f9ee1a37fbd5b5c6b2e28f65ae7af1d393a8b94feeee44fb8bf2958e7ab8df6da4']"
      ]
     },
     "execution_count": 6,
     "metadata": {},
     "output_type": "execute_result"
    }
   ],
   "source": [
    "public_keys = [generated_addresses[0][1], generated_addresses[1][1], generated_addresses[2][1]]\n",
    "public_keys"
   ]
  },
  {
   "cell_type": "code",
   "execution_count": 7,
   "id": "6c3e5068",
   "metadata": {},
   "outputs": [
    {
     "data": {
      "text/plain": [
       "['62bf458d04adc47bf01a2e2ce6c66496cc65ab1c0080b4a89d1c0b561aec2325',\n",
       " '9ea470901eebb2b6ddb5d6c1286376a943fbcb429280b66d7ec50c1e9546f340',\n",
       " 'ddbc2793a9fdf067ecee11624fc47483e3c157bdf9b174ff22cdb8e317a7b79e']"
      ]
     },
     "execution_count": 7,
     "metadata": {},
     "output_type": "execute_result"
    }
   ],
   "source": [
    "private_keys = [generated_addresses[0][0], generated_addresses[1][0], generated_addresses[2][0]]\n",
    "private_keys"
   ]
  },
  {
   "cell_type": "markdown",
   "id": "5aca29c7",
   "metadata": {},
   "source": [
    "<b>Pre-requisite 2.</b> From prerequisite 1,  generate 2-3 MultiSignature address (2 e.g. private_keys for {addess_1, address_2, address_3} out of three are required to spend Bitcoins). Note that your 2-3 MultiSignature address will start with 2."
   ]
  },
  {
   "cell_type": "code",
   "execution_count": 8,
   "id": "839f7381",
   "metadata": {},
   "outputs": [
    {
     "name": "stdout",
     "output_type": "stream",
     "text": [
      "MultiSignature Testnet Address:  2MwahZHf6jYmYD8hov5XSsFDGUEMoVt3b2F\n",
      "Redeem Script: 524104a8d1b5d62e468ec32011cf143f1d3413ca751266dfc32df90ccd1a6af59d9ce8ee05d884e13e00c778699efd46c95fffe01f8e23de5cf55b08f80977b6611a7f4104373fa53e5ce56abe9ff58900d82b1135c1d54f102a4048a3825f5d664e12ea1762179fe2c70a53dc8aeecf27548f4ddb01fa860c536b90c0d420b3fdce24f4da4104dd24241cbfb790b1c60ceb632b14b270c594d7f70c4d3c3b6a9b955879b652f9ee1a37fbd5b5c6b2e28f65ae7af1d393a8b94feeee44fb8bf2958e7ab8df6da453ae\n"
     ]
    }
   ],
   "source": [
    "n: int = 2\n",
    "m: int = 3\n",
    "public_keys: List[str] = public_keys\n",
    "\n",
    "raw_script = bitcoin.mk_multisig_script(public_keys, n)\n",
    "deserialized_script = bitcoin.deserialize_script(raw_script)\n",
    "script_address = bitcoin.scriptaddr(raw_script)\n",
    "testnet_address = public_to_test(script_address)\n",
    "\n",
    "print('MultiSignature Testnet Address: ', testnet_address)\n",
    "print('Redeem Script:', raw_script)    "
   ]
  },
  {
   "cell_type": "markdown",
   "id": "1529a1e8",
   "metadata": {},
   "source": [
    "<b>Task 1.</b>(1 point) Calculate double Hash_256 of your name. Take two inputs from the user, i.e., first name and last name. Concatenate string and take SHA256(SHA256(<first name><lastname>))."
   ]
  },
  {
   "cell_type": "code",
   "execution_count": 9,
   "id": "92e70d67",
   "metadata": {},
   "outputs": [],
   "source": [
    "def double_hash_256(first: str, second: str) -> str:         \n",
    "    return str(binascii.hexlify(hashlib.sha256(hashlib.sha256((first + second).encode('utf-8')).digest()).digest()), 'ascii')"
   ]
  },
  {
   "cell_type": "code",
   "execution_count": 9,
   "id": "61a19eb7",
   "metadata": {},
   "outputs": [
    {
     "name": "stdout",
     "output_type": "stream",
     "text": [
      "Maria\n",
      "Manakhova\n",
      "Double Hash_256 of your name is 4a13d35c36e8a6500bb0958c51c7515a5895a9d89666f66f4660afe7e49d649d\n"
     ]
    }
   ],
   "source": [
    "first_name: str = input()\n",
    "last_name: str = input()\n",
    "    \n",
    "double_hash: str = double_hash_256(first_name, last_name)\n",
    "\n",
    "print(f'Double Hash_256 of your name is {str(double_hash)}')"
   ]
  },
  {
   "cell_type": "markdown",
   "id": "ad057724",
   "metadata": {},
   "source": [
    "<b>Task 2.</b> (1 point) Get some testnet Bitcoins to your testnet address_1 from any source. (For example: https://coinfaucet.eu/en/btc-testnet/, https://testnet-faucet.mempool.co/, or search \"bitcoin testnet faucet\") . Provide the Transaction_ID."
   ]
  },
  {
   "cell_type": "code",
   "execution_count": 28,
   "id": "ad0d8c49",
   "metadata": {},
   "outputs": [],
   "source": [
    "# address_1 = muTeXE9wNxS1JADkCb1qPZkGcQ8h34t2NN\n",
    "# https://blockstream.info/testnet/address/muTeXE9wNxS1JADkCb1qPZkGcQ8h34t2NN\n",
    "transaction_id: str = '5b4172fe2b7334669c097eaff134e66ae3e102219c0674e6e50ae2564d61197f'\n",
    "script_public_key_hash: str = '98f1ad52b9245fb7a64cd6922cb2458f2fdf97e7'"
   ]
  },
  {
   "cell_type": "markdown",
   "id": "5a48cfbc",
   "metadata": {},
   "source": [
    "<b>Task 3.</b> (2 points) Create a new transaction from address_1 and provide Transaction_ID. Make 2 outputs: \n",
    "<ul>\n",
    "  <li>Output_1 : Some bitcoins to address_2.</li>\n",
    "  <li>Output_2: Data transfer i.e. First 4 Bytes double Hash_256 of your name. You can send 0 bitcoins in this output.</li>\n",
    "</ul>"
   ]
  },
  {
   "cell_type": "code",
   "execution_count": 10,
   "id": "f632067f",
   "metadata": {},
   "outputs": [
    {
     "name": "stdout",
     "output_type": "stream",
     "text": [
      "Enter previous user transaction id: 5b4172fe2b7334669c097eaff134e66ae3e102219c0674e6e50ae2564d61197f\n",
      "Enter previous output (<= 15): 0\n",
      "Enter previous public key hash: 98f1ad52b9245fb7a64cd6922cb2458f2fdf97e7\n",
      "Enter number of outputs: 2\n",
      "Enter number of utxo outputs: 1\n",
      "Enter receiver's address: moMjgk8QBPkNYJ2XS4T5PwrubdJvxQ6hsp\n",
      "Enter value in BTC to send: 0.0005\n",
      "Enter number of data outputs: 1\n",
      "Enter data to send: 4a13\n",
      "Enter public key (compressed or uncompressed): 04a8d1b5d62e468ec32011cf143f1d3413ca751266dfc32df90ccd1a6af59d9ce8ee05d884e13e00c778699efd46c95fffe01f8e23de5cf55b08f80977b6611a7f\n",
      "Enter Private Key: 62bf458d04adc47bf01a2e2ce6c66496cc65ab1c0080b4a89d1c0b561aec2325\n",
      "Raw transaction: 01000000017f19614d56e20ae5e674069c2102e1e36ae634f1af7e099c6634732bfe72415b000000001976a91498f1ad52b9245fb7a64cd6922cb2458f2fdf97e788acffffffff0250c30000000000001976a9145602bcc1992be6d20702afcefa6499db212a59d688ac0000000000000000066a04346131330000000001000000\n",
      "Digital signature: 3044022045807ca6653f7e5c78c2e45d6f681424708d7a0d5bd1f867e2224b834fdfb20302201cfed8b55a8b231a9a2c32f6e9efc5371bb50d358681bffbab47861f833f47b6\n",
      "Sig Script: 8a473044022045807ca6653f7e5c78c2e45d6f681424708d7a0d5bd1f867e2224b834fdfb20302201cfed8b55a8b231a9a2c32f6e9efc5371bb50d358681bffbab47861f833f47b6014104a8d1b5d62e468ec32011cf143f1d3413ca751266dfc32df90ccd1a6af59d9ce8ee05d884e13e00c778699efd46c95fffe01f8e23de5cf55b08f80977b6611a7f\n",
      "Transaction to broadcast: 01000000017f19614d56e20ae5e674069c2102e1e36ae634f1af7e099c6634732bfe72415b000000008a473044022045807ca6653f7e5c78c2e45d6f681424708d7a0d5bd1f867e2224b834fdfb20302201cfed8b55a8b231a9a2c32f6e9efc5371bb50d358681bffbab47861f833f47b6014104a8d1b5d62e468ec32011cf143f1d3413ca751266dfc32df90ccd1a6af59d9ce8ee05d884e13e00c778699efd46c95fffe01f8e23de5cf55b08f80977b6611a7fffffffff0250c30000000000001976a9145602bcc1992be6d20702afcefa6499db212a59d688ac0000000000000000066a043461313300000000\n"
     ]
    }
   ],
   "source": [
    "version_number: str = '01000000'\n",
    "number_inputs: str = '01'\n",
    "sequence: str = 'ffffffff'\n",
    "\n",
    "previous_transaction_id: str = input('Enter previous user transaction id: ')\n",
    "previous_output: int = int(input('Enter previous output (<= 15): '))\n",
    "previous_public_key_hash: str = input('Enter previous public key hash: ')\n",
    "    \n",
    "previous_transaction_id_reversed: str = bytewise_reverse(previous_transaction_id)\n",
    "output_script: str = '0' + str(previous_output) + '000000'\n",
    "script: str = '1976a914' + previous_public_key_hash + '88ac'\n",
    "transaction_ip: str = version_number + number_inputs + previous_transaction_id_reversed + output_script + script + sequence\n",
    "\n",
    "# Outputs\n",
    "outputs: int = int(input('Enter number of outputs: '))\n",
    "    \n",
    "utxo_outputs = int(input('Enter number of utxo outputs: '))\n",
    "transaction_output: str = ''\n",
    "for i in range(utxo_outputs):\n",
    "    transaction_output = transaction_outputs() + transaction_output\n",
    "    \n",
    "data_outputs: int = int(input('Enter number of data outputs: '))\n",
    "op_return: str = ''\n",
    "for i in range(data_outputs):\n",
    "    op_return = op_returns() + op_return\n",
    "    \n",
    "out_transaction = '0' + str(outputs) + transaction_output + op_return + '0'*8 + version_number\n",
    "raw_transaction: str = transaction_ip + out_transaction\n",
    "    \n",
    "public_key: str = input('Enter public key (compressed or uncompressed): ')\n",
    "    \n",
    "signature: str = digital_signature(raw_transaction)\n",
    "sig_script = decode_digital_signature(signature, public_key)\n",
    "\n",
    "print(f'Raw transaction: {raw_transaction}')\n",
    "print(f'Digital signature: {signature}')\n",
    "print(f'Sig Script: {sig_script}')\n",
    "\n",
    "#Broadcasting_Transaction:\n",
    "broadcasting_transaction: str = version_number + number_inputs + previous_transaction_id_reversed + output_script + sig_script + sequence + out_transaction[:-8]\n",
    "print(f'Transaction to broadcast: {broadcasting_transaction}')"
   ]
  },
  {
   "cell_type": "code",
   "execution_count": 11,
   "id": "74a4e7c5",
   "metadata": {},
   "outputs": [],
   "source": [
    "# address_2 = moMjgk8QBPkNYJ2XS4T5PwrubdJvxQ6hsp\n",
    "# https://blockstream.info/testnet/address/moMjgk8QBPkNYJ2XS4T5PwrubdJvxQ6hsp\n",
    "second_transaction_id: str = '02df7e71fbb36ba6c471e46d0d33ded5f38bd762a462c3da592c23b3bd788588'\n",
    "second_script_public_key_hash: str = '5602bcc1992be6d20702afcefa6499db212a59d6'"
   ]
  },
  {
   "cell_type": "markdown",
   "id": "5966d660",
   "metadata": {},
   "source": [
    "<b>Task 4.</b> (4 points) From address_2, Send some bitcoins to your 2-of-3 MultiSignature Address. "
   ]
  },
  {
   "cell_type": "code",
   "execution_count": 12,
   "id": "737e0911",
   "metadata": {},
   "outputs": [
    {
     "name": "stdout",
     "output_type": "stream",
     "text": [
      "Enter previous user transaction id: 02df7e71fbb36ba6c471e46d0d33ded5f38bd762a462c3da592c23b3bd788588\n",
      "Enter previous output (<= 15): 0\n",
      "Enter previous public key hash: 5602bcc1992be6d20702afcefa6499db212a59d6\n",
      "Enter number of outputs: 1\n",
      "Enter number of utxo outputs: 1\n",
      "Enter receiver's address: 2MwahZHf6jYmYD8hov5XSsFDGUEMoVt3b2F\n",
      "Enter value in BTC to send: 0.0004\n",
      "Enter number of data outputs: 0\n",
      "Enter public key (compressed or uncompressed): 04373fa53e5ce56abe9ff58900d82b1135c1d54f102a4048a3825f5d664e12ea1762179fe2c70a53dc8aeecf27548f4ddb01fa860c536b90c0d420b3fdce24f4da\n",
      "Enter Private Key: 9ea470901eebb2b6ddb5d6c1286376a943fbcb429280b66d7ec50c1e9546f340\n",
      "Raw transaction: 0100000001888578bdb3232c59dac362a462d78bf3d5de330d6de471c4a66bb3fb717edf02000000001976a9145602bcc1992be6d20702afcefa6499db212a59d688acffffffff01409c00000000000017a9142f8f6b7d505fec6ad7fc4a3a12ea1fbe8c52a3df870000000001000000\n",
      "Digital signature: 304402205ad39e6151e5cd4638674f7830b4fa9220040f6d64bb8b393d991813690cc911022032d5a2c8a32889d7a5e8020ef5a909d528b222e18c5a31c3a3fef343a30d734f\n",
      "Sig Script: 8a47304402205ad39e6151e5cd4638674f7830b4fa9220040f6d64bb8b393d991813690cc911022032d5a2c8a32889d7a5e8020ef5a909d528b222e18c5a31c3a3fef343a30d734f014104373fa53e5ce56abe9ff58900d82b1135c1d54f102a4048a3825f5d664e12ea1762179fe2c70a53dc8aeecf27548f4ddb01fa860c536b90c0d420b3fdce24f4da\n",
      "Transaction to broadcast: 0100000001888578bdb3232c59dac362a462d78bf3d5de330d6de471c4a66bb3fb717edf02000000008a47304402205ad39e6151e5cd4638674f7830b4fa9220040f6d64bb8b393d991813690cc911022032d5a2c8a32889d7a5e8020ef5a909d528b222e18c5a31c3a3fef343a30d734f014104373fa53e5ce56abe9ff58900d82b1135c1d54f102a4048a3825f5d664e12ea1762179fe2c70a53dc8aeecf27548f4ddb01fa860c536b90c0d420b3fdce24f4daffffffff01409c00000000000017a9142f8f6b7d505fec6ad7fc4a3a12ea1fbe8c52a3df8700000000\n"
     ]
    }
   ],
   "source": [
    "version_number: str = '01000000'\n",
    "number_inputs: str = '01'\n",
    "sequence: str = 'ffffffff'\n",
    "\n",
    "previous_transaction_id: str = input('Enter previous user transaction id: ')\n",
    "previous_output: int = int(input('Enter previous output (<= 15): '))\n",
    "previous_public_key_hash: str = input('Enter previous public key hash: ')\n",
    "    \n",
    "previous_transaction_id_reversed: str = bytewise_reverse(previous_transaction_id)\n",
    "output_script: str = '0' + str(previous_output) + '000000'\n",
    "script: str = '1976a914' + previous_public_key_hash + '88ac'\n",
    "transaction_ip: str = version_number + number_inputs + previous_transaction_id_reversed + output_script + script + sequence\n",
    "\n",
    "# Outputs\n",
    "outputs: int = int(input('Enter number of outputs: '))\n",
    "    \n",
    "utxo_outputs = int(input('Enter number of utxo outputs: '))\n",
    "transaction_output: str = ''\n",
    "for i in range(utxo_outputs):\n",
    "    transaction_output = transaction_outputs() + transaction_output\n",
    "    \n",
    "data_outputs: int = int(input('Enter number of data outputs: '))\n",
    "op_return: str = ''\n",
    "for i in range(data_outputs):\n",
    "    op_return = op_returns() + op_return\n",
    "    \n",
    "out_transaction = '0' + str(outputs) + transaction_output + op_return + '0'*8 + version_number\n",
    "raw_transaction: str = transaction_ip + out_transaction\n",
    "    \n",
    "public_key: str = input('Enter public key (compressed or uncompressed): ')\n",
    "    \n",
    "signature: str = digital_signature(raw_transaction)\n",
    "sig_script = decode_digital_signature(signature, public_key)\n",
    "\n",
    "print(f'Raw transaction: {raw_transaction}')\n",
    "print(f'Digital signature: {signature}')\n",
    "print(f'Sig Script: {sig_script}')\n",
    "\n",
    "#Broadcasting_Transaction:\n",
    "broadcasting_transaction: str = version_number + number_inputs + previous_transaction_id_reversed + output_script + sig_script + sequence + out_transaction[:-8]\n",
    "print(f'Transaction to broadcast: {broadcasting_transaction}')"
   ]
  },
  {
   "cell_type": "code",
   "execution_count": 13,
   "id": "5f96a6d4",
   "metadata": {},
   "outputs": [],
   "source": [
    "# multisignature address = 2MwahZHf6jYmYD8hov5XSsFDGUEMoVt3b2F\n",
    "# https://blockstream.info/testnet/address/2MwahZHf6jYmYD8hov5XSsFDGUEMoVt3b2F\n",
    "third_transaction_id: str = '9c947d1abeace962a4ef32db0411be0c589eb8c944dcad65a9177ac243c5483f'"
   ]
  },
  {
   "cell_type": "markdown",
   "id": "5c10e1ea",
   "metadata": {},
   "source": [
    "<b>Task 5.</b> (2 points) From 2-of -3 MultiSignature Address. Send some bitcoins back to address_1. "
   ]
  },
  {
   "cell_type": "code",
   "execution_count": 15,
   "id": "d471805d",
   "metadata": {},
   "outputs": [
    {
     "name": "stdout",
     "output_type": "stream",
     "text": [
      "Enter number of signatures required: 2\n",
      "Enter previous transaction id: 9c947d1abeace962a4ef32db0411be0c589eb8c944dcad65a9177ac243c5483f\n",
      "Enter previous output: 0\n",
      "Enter redeem script: 524104a8d1b5d62e468ec32011cf143f1d3413ca751266dfc32df90ccd1a6af59d9ce8ee05d884e13e00c778699efd46c95fffe01f8e23de5cf55b08f80977b6611a7f4104373fa53e5ce56abe9ff58900d82b1135c1d54f102a4048a3825f5d664e12ea1762179fe2c70a53dc8aeecf27548f4ddb01fa860c536b90c0d420b3fdce24f4da4104dd24241cbfb790b1c60ceb632b14b270c594d7f70c4d3c3b6a9b955879b652f9ee1a37fbd5b5c6b2e28f65ae7af1d393a8b94feeee44fb8bf2958e7ab8df6da453ae\n",
      "Enter number of outputs: 1\n",
      "Enter receiver's address: muTeXE9wNxS1JADkCb1qPZkGcQ8h34t2NN\n",
      "Enter value in BTC to send: 0.0002\n",
      "Enter Private Key: 62bf458d04adc47bf01a2e2ce6c66496cc65ab1c0080b4a89d1c0b561aec2325\n",
      "Enter Private Key: ddbc2793a9fdf067ecee11624fc47483e3c157bdf9b174ff22cdb8e317a7b79e\n",
      "Transaction to broadcast:  01000000013f48c543c27a17a965addc44c9b89e580cbe1104db32efa462e9acbe1a7d949c00000000fd5e0100483045022100fe193e5ed9acf34ad83e394fca2b0f9b0f9112bbfd5a65680bdceb5a29b8bf21022062ea91dc31475f7253061acb50718614e4485f9266a76487c649c8dc6bffe0c101483045022100a10b93b770638b6a3102986a859e5a88dfab2efb2a1aabaefcf72a0ddc12e7b302206a697311bae7a2b0d6f587c0ca31ca4782891e15be684a6d15c780ac231981ab014cc9524104a8d1b5d62e468ec32011cf143f1d3413ca751266dfc32df90ccd1a6af59d9ce8ee05d884e13e00c778699efd46c95fffe01f8e23de5cf55b08f80977b6611a7f4104373fa53e5ce56abe9ff58900d82b1135c1d54f102a4048a3825f5d664e12ea1762179fe2c70a53dc8aeecf27548f4ddb01fa860c536b90c0d420b3fdce24f4da4104dd24241cbfb790b1c60ceb632b14b270c594d7f70c4d3c3b6a9b955879b652f9ee1a37fbd5b5c6b2e28f65ae7af1d393a8b94feeee44fb8bf2958e7ab8df6da453aeffffffff01204e0000000000001976a91498f1ad52b9245fb7a64cd6922cb2458f2fdf97e788ac00000000\n"
     ]
    }
   ],
   "source": [
    "version: str = '01000000'\n",
    "lock_time: str = '00000000'\n",
    "sig_hash_code: str = '01000000'\n",
    "    \n",
    "signatures_required: int = int(input('Enter number of signatures required: '))\n",
    "input_multi_signature: str = '01' + tx_inputs_tx_id()\n",
    "\n",
    "redeem_script: str = input('Enter redeem script: ')\n",
    "redeem_script = variable_integer(redeem_script) + redeem_script\n",
    "\n",
    "transaction_input_value: str = input_multi_signature + redeem_script + 'f'*8\n",
    "\n",
    "utxo_outputs: int = int(input('Enter number of outputs: '))\n",
    "transaction_output: str = ''\n",
    "for i in range(utxo_outputs):\n",
    "    transaction_output = transaction_outputs_v2() + transaction_output\n",
    "    \n",
    "next_output_data: str = variable_integer(utxo_outputs) + transaction_output\n",
    "transaction_to_sign: str = version + transaction_input_value + next_output_data + lock_time + sig_hash_code\n",
    "\n",
    "signatures: str = ''\n",
    "for i in range(signatures_required):\n",
    "    digital_signature_: str = digital_signature(transaction_to_sign) + '01'\n",
    "    signatures = signatures + (variable_integer(digital_signature_) + digital_signature_)\n",
    "    \n",
    "sig_script_places: str = '00' + signatures + '4c' + redeem_script \n",
    "sig_script: str = variable_integer(sig_script_places) + sig_script_places\n",
    "\n",
    "broadcasting_transaction = version + input_multi_signature + sig_script + 'f'*8 + next_output_data + lock_time\n",
    "print('Transaction to broadcast: ', broadcasting_transaction)"
   ]
  },
  {
   "cell_type": "code",
   "execution_count": 16,
   "id": "530a9216",
   "metadata": {},
   "outputs": [],
   "source": [
    "final_transaction_id: str = '28343ca90629b9e3acbd56134ae84d28effcda384f25f73e0a7e109bb9932322'"
   ]
  }
 ],
 "metadata": {
  "kernelspec": {
   "display_name": "Python 3",
   "language": "python",
   "name": "python3"
  },
  "language_info": {
   "codemirror_mode": {
    "name": "ipython",
    "version": 3
   },
   "file_extension": ".py",
   "mimetype": "text/x-python",
   "name": "python",
   "nbconvert_exporter": "python",
   "pygments_lexer": "ipython3",
   "version": "3.8.8"
  }
 },
 "nbformat": 4,
 "nbformat_minor": 5
}
